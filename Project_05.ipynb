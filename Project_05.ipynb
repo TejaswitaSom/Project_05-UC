{
 "cells": [
  {
   "cell_type": "markdown",
   "metadata": {},
   "source": [
    "### Importing the libraries"
   ]
  },
  {
   "cell_type": "code",
   "execution_count": 34,
   "metadata": {},
   "outputs": [],
   "source": [
    "import numpy as np\n",
    "import pandas as pd\n",
    "import seaborn as sns\n",
    "from sklearn.model_selection import train_test_split\n",
    "from sklearn.metrics import accuracy_score, confusion_matrix\n",
    "from sklearn.preprocessing import StandardScaler\n",
    "import tensorflow as tf\n",
    "from tensorflow.keras.models import Sequential\n",
    "from tensorflow.keras.layers import Dense,Dropout"
   ]
  },
  {
   "cell_type": "markdown",
   "metadata": {},
   "source": [
    "### Importing the ldatasets"
   ]
  },
  {
   "cell_type": "code",
   "execution_count": 3,
   "metadata": {},
   "outputs": [],
   "source": [
    "features = pd.read_table('features.txt', delim_whitespace=True, names=('Name',))"
   ]
  },
  {
   "cell_type": "code",
   "execution_count": 4,
   "metadata": {},
   "outputs": [
    {
     "name": "stdout",
     "output_type": "stream",
     "text": [
      "(7352, 561)\n"
     ]
    },
    {
     "data": {
      "text/html": [
       "<div>\n",
       "<style scoped>\n",
       "    .dataframe tbody tr th:only-of-type {\n",
       "        vertical-align: middle;\n",
       "    }\n",
       "\n",
       "    .dataframe tbody tr th {\n",
       "        vertical-align: top;\n",
       "    }\n",
       "\n",
       "    .dataframe thead th {\n",
       "        text-align: right;\n",
       "    }\n",
       "</style>\n",
       "<table border=\"1\" class=\"dataframe\">\n",
       "  <thead>\n",
       "    <tr style=\"text-align: right;\">\n",
       "      <th></th>\n",
       "      <th>tBodyAcc-mean()-X</th>\n",
       "      <th>tBodyAcc-mean()-Y</th>\n",
       "      <th>tBodyAcc-mean()-Z</th>\n",
       "      <th>tBodyAcc-std()-X</th>\n",
       "      <th>tBodyAcc-std()-Y</th>\n",
       "      <th>tBodyAcc-std()-Z</th>\n",
       "      <th>tBodyAcc-mad()-X</th>\n",
       "      <th>tBodyAcc-mad()-Y</th>\n",
       "      <th>tBodyAcc-mad()-Z</th>\n",
       "      <th>tBodyAcc-max()-X</th>\n",
       "      <th>...</th>\n",
       "      <th>fBodyBodyGyroJerkMag-meanFreq()</th>\n",
       "      <th>fBodyBodyGyroJerkMag-skewness()</th>\n",
       "      <th>fBodyBodyGyroJerkMag-kurtosis()</th>\n",
       "      <th>angle(tBodyAccMean,gravity)</th>\n",
       "      <th>angle(tBodyAccJerkMean),gravityMean)</th>\n",
       "      <th>angle(tBodyGyroMean,gravityMean)</th>\n",
       "      <th>angle(tBodyGyroJerkMean,gravityMean)</th>\n",
       "      <th>angle(X,gravityMean)</th>\n",
       "      <th>angle(Y,gravityMean)</th>\n",
       "      <th>angle(Z,gravityMean)</th>\n",
       "    </tr>\n",
       "  </thead>\n",
       "  <tbody>\n",
       "    <tr>\n",
       "      <th>0</th>\n",
       "      <td>0.288585</td>\n",
       "      <td>-0.020294</td>\n",
       "      <td>-0.132905</td>\n",
       "      <td>-0.995279</td>\n",
       "      <td>-0.983111</td>\n",
       "      <td>-0.913526</td>\n",
       "      <td>-0.995112</td>\n",
       "      <td>-0.983185</td>\n",
       "      <td>-0.923527</td>\n",
       "      <td>-0.934724</td>\n",
       "      <td>...</td>\n",
       "      <td>-0.074323</td>\n",
       "      <td>-0.298676</td>\n",
       "      <td>-0.710304</td>\n",
       "      <td>-0.112754</td>\n",
       "      <td>0.030400</td>\n",
       "      <td>-0.464761</td>\n",
       "      <td>-0.018446</td>\n",
       "      <td>-0.841247</td>\n",
       "      <td>0.179941</td>\n",
       "      <td>-0.058627</td>\n",
       "    </tr>\n",
       "    <tr>\n",
       "      <th>1</th>\n",
       "      <td>0.278419</td>\n",
       "      <td>-0.016411</td>\n",
       "      <td>-0.123520</td>\n",
       "      <td>-0.998245</td>\n",
       "      <td>-0.975300</td>\n",
       "      <td>-0.960322</td>\n",
       "      <td>-0.998807</td>\n",
       "      <td>-0.974914</td>\n",
       "      <td>-0.957686</td>\n",
       "      <td>-0.943068</td>\n",
       "      <td>...</td>\n",
       "      <td>0.158075</td>\n",
       "      <td>-0.595051</td>\n",
       "      <td>-0.861499</td>\n",
       "      <td>0.053477</td>\n",
       "      <td>-0.007435</td>\n",
       "      <td>-0.732626</td>\n",
       "      <td>0.703511</td>\n",
       "      <td>-0.844788</td>\n",
       "      <td>0.180289</td>\n",
       "      <td>-0.054317</td>\n",
       "    </tr>\n",
       "    <tr>\n",
       "      <th>2</th>\n",
       "      <td>0.279653</td>\n",
       "      <td>-0.019467</td>\n",
       "      <td>-0.113462</td>\n",
       "      <td>-0.995380</td>\n",
       "      <td>-0.967187</td>\n",
       "      <td>-0.978944</td>\n",
       "      <td>-0.996520</td>\n",
       "      <td>-0.963668</td>\n",
       "      <td>-0.977469</td>\n",
       "      <td>-0.938692</td>\n",
       "      <td>...</td>\n",
       "      <td>0.414503</td>\n",
       "      <td>-0.390748</td>\n",
       "      <td>-0.760104</td>\n",
       "      <td>-0.118559</td>\n",
       "      <td>0.177899</td>\n",
       "      <td>0.100699</td>\n",
       "      <td>0.808529</td>\n",
       "      <td>-0.848933</td>\n",
       "      <td>0.180637</td>\n",
       "      <td>-0.049118</td>\n",
       "    </tr>\n",
       "    <tr>\n",
       "      <th>3</th>\n",
       "      <td>0.279174</td>\n",
       "      <td>-0.026201</td>\n",
       "      <td>-0.123283</td>\n",
       "      <td>-0.996091</td>\n",
       "      <td>-0.983403</td>\n",
       "      <td>-0.990675</td>\n",
       "      <td>-0.997099</td>\n",
       "      <td>-0.982750</td>\n",
       "      <td>-0.989302</td>\n",
       "      <td>-0.938692</td>\n",
       "      <td>...</td>\n",
       "      <td>0.404573</td>\n",
       "      <td>-0.117290</td>\n",
       "      <td>-0.482845</td>\n",
       "      <td>-0.036788</td>\n",
       "      <td>-0.012892</td>\n",
       "      <td>0.640011</td>\n",
       "      <td>-0.485366</td>\n",
       "      <td>-0.848649</td>\n",
       "      <td>0.181935</td>\n",
       "      <td>-0.047663</td>\n",
       "    </tr>\n",
       "    <tr>\n",
       "      <th>4</th>\n",
       "      <td>0.276629</td>\n",
       "      <td>-0.016570</td>\n",
       "      <td>-0.115362</td>\n",
       "      <td>-0.998139</td>\n",
       "      <td>-0.980817</td>\n",
       "      <td>-0.990482</td>\n",
       "      <td>-0.998321</td>\n",
       "      <td>-0.979672</td>\n",
       "      <td>-0.990441</td>\n",
       "      <td>-0.942469</td>\n",
       "      <td>...</td>\n",
       "      <td>0.087753</td>\n",
       "      <td>-0.351471</td>\n",
       "      <td>-0.699205</td>\n",
       "      <td>0.123320</td>\n",
       "      <td>0.122542</td>\n",
       "      <td>0.693578</td>\n",
       "      <td>-0.615971</td>\n",
       "      <td>-0.847865</td>\n",
       "      <td>0.185151</td>\n",
       "      <td>-0.043892</td>\n",
       "    </tr>\n",
       "  </tbody>\n",
       "</table>\n",
       "<p>5 rows × 561 columns</p>\n",
       "</div>"
      ],
      "text/plain": [
       "   tBodyAcc-mean()-X  tBodyAcc-mean()-Y  tBodyAcc-mean()-Z  tBodyAcc-std()-X  \\\n",
       "0           0.288585          -0.020294          -0.132905         -0.995279   \n",
       "1           0.278419          -0.016411          -0.123520         -0.998245   \n",
       "2           0.279653          -0.019467          -0.113462         -0.995380   \n",
       "3           0.279174          -0.026201          -0.123283         -0.996091   \n",
       "4           0.276629          -0.016570          -0.115362         -0.998139   \n",
       "\n",
       "   tBodyAcc-std()-Y  tBodyAcc-std()-Z  tBodyAcc-mad()-X  tBodyAcc-mad()-Y  \\\n",
       "0         -0.983111         -0.913526         -0.995112         -0.983185   \n",
       "1         -0.975300         -0.960322         -0.998807         -0.974914   \n",
       "2         -0.967187         -0.978944         -0.996520         -0.963668   \n",
       "3         -0.983403         -0.990675         -0.997099         -0.982750   \n",
       "4         -0.980817         -0.990482         -0.998321         -0.979672   \n",
       "\n",
       "   tBodyAcc-mad()-Z  tBodyAcc-max()-X  ...  fBodyBodyGyroJerkMag-meanFreq()  \\\n",
       "0         -0.923527         -0.934724  ...                        -0.074323   \n",
       "1         -0.957686         -0.943068  ...                         0.158075   \n",
       "2         -0.977469         -0.938692  ...                         0.414503   \n",
       "3         -0.989302         -0.938692  ...                         0.404573   \n",
       "4         -0.990441         -0.942469  ...                         0.087753   \n",
       "\n",
       "   fBodyBodyGyroJerkMag-skewness()  fBodyBodyGyroJerkMag-kurtosis()  \\\n",
       "0                        -0.298676                        -0.710304   \n",
       "1                        -0.595051                        -0.861499   \n",
       "2                        -0.390748                        -0.760104   \n",
       "3                        -0.117290                        -0.482845   \n",
       "4                        -0.351471                        -0.699205   \n",
       "\n",
       "   angle(tBodyAccMean,gravity)  angle(tBodyAccJerkMean),gravityMean)  \\\n",
       "0                    -0.112754                              0.030400   \n",
       "1                     0.053477                             -0.007435   \n",
       "2                    -0.118559                              0.177899   \n",
       "3                    -0.036788                             -0.012892   \n",
       "4                     0.123320                              0.122542   \n",
       "\n",
       "   angle(tBodyGyroMean,gravityMean)  angle(tBodyGyroJerkMean,gravityMean)  \\\n",
       "0                         -0.464761                             -0.018446   \n",
       "1                         -0.732626                              0.703511   \n",
       "2                          0.100699                              0.808529   \n",
       "3                          0.640011                             -0.485366   \n",
       "4                          0.693578                             -0.615971   \n",
       "\n",
       "   angle(X,gravityMean)  angle(Y,gravityMean)  angle(Z,gravityMean)  \n",
       "0             -0.841247              0.179941             -0.058627  \n",
       "1             -0.844788              0.180289             -0.054317  \n",
       "2             -0.848933              0.180637             -0.049118  \n",
       "3             -0.848649              0.181935             -0.047663  \n",
       "4             -0.847865              0.185151             -0.043892  \n",
       "\n",
       "[5 rows x 561 columns]"
      ]
     },
     "execution_count": 4,
     "metadata": {},
     "output_type": "execute_result"
    }
   ],
   "source": [
    "X = pd.read_table('X_train.txt', delim_whitespace=True, names=range(561))\n",
    "X.columns = list(features['Name'])\n",
    "print(X.shape)\n",
    "X.head()"
   ]
  },
  {
   "cell_type": "code",
   "execution_count": 5,
   "metadata": {},
   "outputs": [
    {
     "name": "stdout",
     "output_type": "stream",
     "text": [
      "(7352, 1)\n"
     ]
    },
    {
     "data": {
      "text/html": [
       "<div>\n",
       "<style scoped>\n",
       "    .dataframe tbody tr th:only-of-type {\n",
       "        vertical-align: middle;\n",
       "    }\n",
       "\n",
       "    .dataframe tbody tr th {\n",
       "        vertical-align: top;\n",
       "    }\n",
       "\n",
       "    .dataframe thead th {\n",
       "        text-align: right;\n",
       "    }\n",
       "</style>\n",
       "<table border=\"1\" class=\"dataframe\">\n",
       "  <thead>\n",
       "    <tr style=\"text-align: right;\">\n",
       "      <th></th>\n",
       "      <th>Label</th>\n",
       "    </tr>\n",
       "  </thead>\n",
       "  <tbody>\n",
       "    <tr>\n",
       "      <th>0</th>\n",
       "      <td>4</td>\n",
       "    </tr>\n",
       "    <tr>\n",
       "      <th>1</th>\n",
       "      <td>4</td>\n",
       "    </tr>\n",
       "    <tr>\n",
       "      <th>2</th>\n",
       "      <td>4</td>\n",
       "    </tr>\n",
       "    <tr>\n",
       "      <th>3</th>\n",
       "      <td>4</td>\n",
       "    </tr>\n",
       "    <tr>\n",
       "      <th>4</th>\n",
       "      <td>4</td>\n",
       "    </tr>\n",
       "  </tbody>\n",
       "</table>\n",
       "</div>"
      ],
      "text/plain": [
       "   Label\n",
       "0      4\n",
       "1      4\n",
       "2      4\n",
       "3      4\n",
       "4      4"
      ]
     },
     "execution_count": 5,
     "metadata": {},
     "output_type": "execute_result"
    }
   ],
   "source": [
    "y = pd.read_table('y_train.txt', delim_whitespace=True, names=('Label',))\n",
    "y = y-1\n",
    "print(y.shape)\n",
    "y.head()"
   ]
  },
  {
   "cell_type": "code",
   "execution_count": 51,
   "metadata": {},
   "outputs": [
    {
     "data": {
      "text/plain": [
       "(2947, 561)"
      ]
     },
     "execution_count": 51,
     "metadata": {},
     "output_type": "execute_result"
    }
   ],
   "source": [
    "public_x = pd.read_table('X_test.txt', delim_whitespace=True, names=range(561))\n",
    "public_x.columns = list(features['Name'])\n",
    "public_x.shape"
   ]
  },
  {
   "cell_type": "code",
   "execution_count": 7,
   "metadata": {},
   "outputs": [
    {
     "data": {
      "text/plain": [
       "(2947, 561)"
      ]
     },
     "execution_count": 7,
     "metadata": {},
     "output_type": "execute_result"
    }
   ],
   "source": [
    "public_y = pd.read_table('y_test.txt', delim_whitespace=True, names=('Label',))\n",
    "public_y = public_y - 1\n",
    "public_x.shape"
   ]
  },
  {
   "cell_type": "code",
   "execution_count": 53,
   "metadata": {},
   "outputs": [
    {
     "data": {
      "text/plain": [
       "tBodyAcc-mean()-X                       0\n",
       "tBodyAcc-mean()-Y                       0\n",
       "tBodyAcc-mean()-Z                       0\n",
       "tBodyAcc-std()-X                        0\n",
       "tBodyAcc-std()-Y                        0\n",
       "                                       ..\n",
       "angle(tBodyGyroMean,gravityMean)        0\n",
       "angle(tBodyGyroJerkMean,gravityMean)    0\n",
       "angle(X,gravityMean)                    0\n",
       "angle(Y,gravityMean)                    0\n",
       "angle(Z,gravityMean)                    0\n",
       "Length: 561, dtype: int64"
      ]
     },
     "execution_count": 53,
     "metadata": {},
     "output_type": "execute_result"
    }
   ],
   "source": [
    "X.isnull().sum()"
   ]
  },
  {
   "cell_type": "code",
   "execution_count": 54,
   "metadata": {},
   "outputs": [
    {
     "data": {
      "text/plain": [
       "Label    0\n",
       "dtype: int64"
      ]
     },
     "execution_count": 54,
     "metadata": {},
     "output_type": "execute_result"
    }
   ],
   "source": [
    "y.isnull().sum()"
   ]
  },
  {
   "cell_type": "markdown",
   "metadata": {},
   "source": [
    "### Dividing the training set into 3 parts as private datasets"
   ]
  },
  {
   "cell_type": "code",
   "execution_count": 8,
   "metadata": {},
   "outputs": [],
   "source": [
    "frames = [X,y]\n",
    "df = pd.concat(frames, axis=1)"
   ]
  },
  {
   "cell_type": "code",
   "execution_count": 52,
   "metadata": {},
   "outputs": [
    {
     "data": {
      "text/plain": [
       "tBodyAcc-mean()-X                       0\n",
       "tBodyAcc-mean()-Y                       0\n",
       "tBodyAcc-mean()-Z                       0\n",
       "tBodyAcc-std()-X                        0\n",
       "tBodyAcc-std()-Y                        0\n",
       "                                       ..\n",
       "angle(tBodyGyroJerkMean,gravityMean)    0\n",
       "angle(X,gravityMean)                    0\n",
       "angle(Y,gravityMean)                    0\n",
       "angle(Z,gravityMean)                    0\n",
       "Label                                   0\n",
       "Length: 562, dtype: int64"
      ]
     },
     "execution_count": 52,
     "metadata": {},
     "output_type": "execute_result"
    }
   ],
   "source": [
    "df.isnull().sum()"
   ]
  },
  {
   "cell_type": "code",
   "execution_count": 27,
   "metadata": {},
   "outputs": [],
   "source": [
    "part_1 = df.sample(frac = (1/3)) \n",
    "rest_part = df.drop(part_1.index) \n",
    "part_2 = rest_part.sample(frac = 0.5) \n",
    "part_3 = rest_part.drop(part_2.index)"
   ]
  },
  {
   "cell_type": "markdown",
   "metadata": {},
   "source": [
    "### Private models development"
   ]
  },
  {
   "cell_type": "code",
   "execution_count": 28,
   "metadata": {
    "scrolled": true
   },
   "outputs": [
    {
     "name": "stdout",
     "output_type": "stream",
     "text": [
      "Epoch 1/20\n",
      "1960/1960 [==============================] - 1s 458us/sample - loss: 0.7759 - accuracy: 0.6806\n",
      "Epoch 2/20\n",
      "1960/1960 [==============================] - 0s 213us/sample - loss: 0.2494 - accuracy: 0.9051\n",
      "Epoch 3/20\n",
      "1960/1960 [==============================] - 0s 198us/sample - loss: 0.1637 - accuracy: 0.9347\n",
      "Epoch 4/20\n",
      "1960/1960 [==============================] - 0s 198us/sample - loss: 0.1166 - accuracy: 0.9561\n",
      "Epoch 5/20\n",
      "1960/1960 [==============================] - 0s 199us/sample - loss: 0.0853 - accuracy: 0.9658\n",
      "Epoch 6/20\n",
      "1960/1960 [==============================] - 0s 214us/sample - loss: 0.0659 - accuracy: 0.9770\n",
      "Epoch 7/20\n",
      "1960/1960 [==============================] - 0s 200us/sample - loss: 0.0833 - accuracy: 0.9709\n",
      "Epoch 8/20\n",
      "1960/1960 [==============================] - 0s 206us/sample - loss: 0.0627 - accuracy: 0.9755\n",
      "Epoch 9/20\n",
      "1960/1960 [==============================] - 0s 200us/sample - loss: 0.0427 - accuracy: 0.9842\n",
      "Epoch 10/20\n",
      "1960/1960 [==============================] - 0s 199us/sample - loss: 0.0469 - accuracy: 0.9816\n",
      "Epoch 11/20\n",
      "1960/1960 [==============================] - 0s 212us/sample - loss: 0.1021 - accuracy: 0.9663\n",
      "Epoch 12/20\n",
      "1960/1960 [==============================] - 0s 200us/sample - loss: 0.0577 - accuracy: 0.9811\n",
      "Epoch 13/20\n",
      "1960/1960 [==============================] - 0s 196us/sample - loss: 0.0407 - accuracy: 0.9857\n",
      "Epoch 14/20\n",
      "1960/1960 [==============================] - 0s 229us/sample - loss: 0.0394 - accuracy: 0.9842\n",
      "Epoch 15/20\n",
      "1960/1960 [==============================] - 0s 195us/sample - loss: 0.0192 - accuracy: 0.9923\n",
      "Epoch 16/20\n",
      "1960/1960 [==============================] - 0s 197us/sample - loss: 0.0160 - accuracy: 0.9954\n",
      "Epoch 17/20\n",
      "1960/1960 [==============================] - 0s 194us/sample - loss: 0.0114 - accuracy: 0.9974\n",
      "Epoch 18/20\n",
      "1960/1960 [==============================] - 0s 201us/sample - loss: 0.0073 - accuracy: 0.9980\n",
      "Epoch 19/20\n",
      "1960/1960 [==============================] - 0s 200us/sample - loss: 0.0104 - accuracy: 0.9969\n",
      "Epoch 20/20\n",
      "1960/1960 [==============================] - 0s 223us/sample - loss: 0.0032 - accuracy: 0.9995\n",
      "491/491 [==============================] - 0s 538us/sample - loss: 0.1088 - accuracy: 0.9715\n",
      "97.14867617107943\n"
     ]
    }
   ],
   "source": [
    "#model1\n",
    "\n",
    "X1 = part_1.drop(axis=1, columns='Label')\n",
    "Y1 = part_1.iloc[:, -1].values\n",
    "\n",
    "X1 = StandardScaler().fit_transform(X1)\n",
    "\n",
    "X_Train1, X_Test1, Y_Train1, Y_Test1 = train_test_split(X1, Y1, test_size = 0.20, random_state = 0)\n",
    "model1 = Sequential()\n",
    "model1.add(tf.keras.Input(shape=(X_Train1.shape[1],)))\n",
    "model1.add(Dense(128, activation='relu'))\n",
    "model1.add(Dense(128, activation='relu'))\n",
    "model1.add(Dense(128, activation='relu'))\n",
    "model1.add(Dropout(0.5))\n",
    "model1.add(Dense(6, activation='softmax'))\n",
    "\n",
    "model1.compile(optimizer='adam', loss='sparse_categorical_crossentropy', metrics = ['accuracy'])\n",
    "\n",
    "model1.fit(X_Train1, Y_Train1, batch_size=40, epochs=20)\n",
    "w1 = model1.get_weights()\n",
    "\n",
    "y_pred1 = model1.predict_classes(X_Test1)\n",
    "model1.evaluate(X_Test1, Y_Test1)\n",
    "a1 = 100*accuracy_score(Y_Test1, y_pred1)\n",
    "print(a1)"
   ]
  },
  {
   "cell_type": "code",
   "execution_count": 29,
   "metadata": {
    "scrolled": true
   },
   "outputs": [
    {
     "name": "stdout",
     "output_type": "stream",
     "text": [
      "Epoch 1/20\n",
      "1960/1960 [==============================] - 1s 444us/sample - loss: 0.7861 - accuracy: 0.6832\n",
      "Epoch 2/20\n",
      "1960/1960 [==============================] - 0s 202us/sample - loss: 0.2587 - accuracy: 0.9010\n",
      "Epoch 3/20\n",
      "1960/1960 [==============================] - 0s 202us/sample - loss: 0.1734 - accuracy: 0.9327\n",
      "Epoch 4/20\n",
      "1960/1960 [==============================] - 0s 200us/sample - loss: 0.1144 - accuracy: 0.9536\n",
      "Epoch 5/20\n",
      "1960/1960 [==============================] - 0s 199us/sample - loss: 0.0970 - accuracy: 0.9633\n",
      "Epoch 6/20\n",
      "1960/1960 [==============================] - 0s 203us/sample - loss: 0.0708 - accuracy: 0.9730\n",
      "Epoch 7/20\n",
      "1960/1960 [==============================] - 0s 204us/sample - loss: 0.0717 - accuracy: 0.9673\n",
      "Epoch 8/20\n",
      "1960/1960 [==============================] - 0s 201us/sample - loss: 0.0521 - accuracy: 0.9801\n",
      "Epoch 9/20\n",
      "1960/1960 [==============================] - 0s 198us/sample - loss: 0.0332 - accuracy: 0.9898\n",
      "Epoch 10/20\n",
      "1960/1960 [==============================] - 0s 209us/sample - loss: 0.0273 - accuracy: 0.9898\n",
      "Epoch 11/20\n",
      "1960/1960 [==============================] - 0s 208us/sample - loss: 0.0645 - accuracy: 0.9714\n",
      "Epoch 12/20\n",
      "1960/1960 [==============================] - 0s 207us/sample - loss: 0.0496 - accuracy: 0.9821\n",
      "Epoch 13/20\n",
      "1960/1960 [==============================] - 0s 200us/sample - loss: 0.0401 - accuracy: 0.9872\n",
      "Epoch 14/20\n",
      "1960/1960 [==============================] - 0s 200us/sample - loss: 0.0371 - accuracy: 0.9857\n",
      "Epoch 15/20\n",
      "1960/1960 [==============================] - 0s 198us/sample - loss: 0.0302 - accuracy: 0.9888\n",
      "Epoch 16/20\n",
      "1960/1960 [==============================] - 0s 198us/sample - loss: 0.0175 - accuracy: 0.9944\n",
      "Epoch 17/20\n",
      "1960/1960 [==============================] - 0s 198us/sample - loss: 0.0104 - accuracy: 0.9980\n",
      "Epoch 18/20\n",
      "1960/1960 [==============================] - 0s 196us/sample - loss: 0.0047 - accuracy: 0.9990\n",
      "Epoch 19/20\n",
      "1960/1960 [==============================] - 0s 198us/sample - loss: 0.0074 - accuracy: 0.9969\n",
      "Epoch 20/20\n",
      "1960/1960 [==============================] - 0s 194us/sample - loss: 0.0427 - accuracy: 0.9867\n",
      "490/490 [==============================] - 0s 505us/sample - loss: 0.1466 - accuracy: 0.9633\n",
      "96.3265306122449\n"
     ]
    }
   ],
   "source": [
    "#model2\n",
    "\n",
    "X2 = part_2.drop(axis=1, columns='Label')\n",
    "Y2 = part_2.iloc[:, -1].values\n",
    "\n",
    "X2 = StandardScaler().fit_transform(X2)\n",
    "\n",
    "X_Train2, X_Test2, Y_Train2, Y_Test2 = train_test_split(X2, Y2, test_size = 0.20, random_state = 0)\n",
    "model2 = Sequential()\n",
    "model2.add(tf.keras.Input(shape=(X_Train2.shape[1],)))\n",
    "model2.add(Dense(128, activation='relu'))\n",
    "model2.add(Dense(128, activation='relu'))\n",
    "model2.add(Dense(128, activation='relu'))\n",
    "model2.add(Dropout(0.5))\n",
    "model2.add(Dense(6, activation='softmax'))\n",
    "\n",
    "model2.compile(optimizer='adam', loss='sparse_categorical_crossentropy', metrics = ['accuracy'])\n",
    "\n",
    "model2.fit(X_Train2, Y_Train2, batch_size=40, epochs=20)\n",
    "w2 = model2.get_weights()\n",
    "\n",
    "y_pred2 = model2.predict_classes(X_Test2)\n",
    "model2.evaluate(X_Test2, Y_Test2)\n",
    "a2 = 100*accuracy_score(Y_Test2, y_pred2)\n",
    "print(a2)"
   ]
  },
  {
   "cell_type": "code",
   "execution_count": 30,
   "metadata": {
    "scrolled": true
   },
   "outputs": [
    {
     "name": "stdout",
     "output_type": "stream",
     "text": [
      "Epoch 1/20\n",
      "1960/1960 [==============================] - 1s 445us/sample - loss: 0.8330 - accuracy: 0.6673\n",
      "Epoch 2/20\n",
      "1960/1960 [==============================] - 0s 203us/sample - loss: 0.2624 - accuracy: 0.9056\n",
      "Epoch 3/20\n",
      "1960/1960 [==============================] - 0s 201us/sample - loss: 0.1462 - accuracy: 0.9531\n",
      "Epoch 4/20\n",
      "1960/1960 [==============================] - 0s 213us/sample - loss: 0.1043 - accuracy: 0.9689\n",
      "Epoch 5/20\n",
      "1960/1960 [==============================] - 0s 204us/sample - loss: 0.1027 - accuracy: 0.9638\n",
      "Epoch 6/20\n",
      "1960/1960 [==============================] - 0s 198us/sample - loss: 0.1283 - accuracy: 0.9541\n",
      "Epoch 7/20\n",
      "1960/1960 [==============================] - 0s 211us/sample - loss: 0.0641 - accuracy: 0.9760 - loss: 0.0943 - ac\n",
      "Epoch 8/20\n",
      "1960/1960 [==============================] - 0s 206us/sample - loss: 0.0580 - accuracy: 0.9796\n",
      "Epoch 9/20\n",
      "1960/1960 [==============================] - 0s 199us/sample - loss: 0.0456 - accuracy: 0.9806\n",
      "Epoch 10/20\n",
      "1960/1960 [==============================] - 0s 209us/sample - loss: 0.0393 - accuracy: 0.9842\n",
      "Epoch 11/20\n",
      "1960/1960 [==============================] - 0s 205us/sample - loss: 0.0288 - accuracy: 0.9893\n",
      "Epoch 12/20\n",
      "1960/1960 [==============================] - 0s 197us/sample - loss: 0.0313 - accuracy: 0.9918\n",
      "Epoch 13/20\n",
      "1960/1960 [==============================] - 0s 196us/sample - loss: 0.0149 - accuracy: 0.9954\n",
      "Epoch 14/20\n",
      "1960/1960 [==============================] - 0s 196us/sample - loss: 0.0160 - accuracy: 0.9944\n",
      "Epoch 15/20\n",
      "1960/1960 [==============================] - 0s 196us/sample - loss: 0.0155 - accuracy: 0.9929\n",
      "Epoch 16/20\n",
      "1960/1960 [==============================] - 0s 200us/sample - loss: 0.0300 - accuracy: 0.9898\n",
      "Epoch 17/20\n",
      "1960/1960 [==============================] - 0s 198us/sample - loss: 0.0380 - accuracy: 0.9857\n",
      "Epoch 18/20\n",
      "1960/1960 [==============================] - 0s 194us/sample - loss: 0.0097 - accuracy: 0.9974\n",
      "Epoch 19/20\n",
      "1960/1960 [==============================] - 0s 196us/sample - loss: 0.0034 - accuracy: 1.0000\n",
      "Epoch 20/20\n",
      "1960/1960 [==============================] - 0s 200us/sample - loss: 0.0416 - accuracy: 0.9852\n",
      "491/491 [==============================] - 0s 510us/sample - loss: 0.1338 - accuracy: 0.9633\n",
      "96.33401221995926\n"
     ]
    }
   ],
   "source": [
    "#model3\n",
    "\n",
    "X3 = part_3.drop(axis=1, columns='Label')\n",
    "Y3 = part_3.iloc[:, -1].values\n",
    "\n",
    "X3 = StandardScaler().fit_transform(X3)\n",
    "\n",
    "X_Train3, X_Test3, Y_Train3, Y_Test3 = train_test_split(X3, Y3, test_size = 0.20, random_state = 0)\n",
    "model3 = Sequential()\n",
    "model3.add(tf.keras.Input(shape=(X_Train3.shape[1],)))\n",
    "model3.add(Dense(128, activation='relu'))\n",
    "model3.add(Dense(128, activation='relu'))\n",
    "model3.add(Dense(128, activation='relu'))\n",
    "model3.add(Dropout(0.5))\n",
    "model3.add(Dense(6, activation='softmax'))\n",
    "\n",
    "model3.compile(optimizer='adam', loss='sparse_categorical_crossentropy', metrics = ['accuracy'])\n",
    "\n",
    "model3.fit(X_Train3, Y_Train3, batch_size=40, epochs=20)\n",
    "w3 = model3.get_weights()\n",
    "\n",
    "y_pred3 = model3.predict_classes(X_Test3)\n",
    "model3.evaluate(X_Test3, Y_Test3)\n",
    "a3 = 100*accuracy_score(Y_Test3, y_pred3)\n",
    "print(a3)"
   ]
  },
  {
   "cell_type": "markdown",
   "metadata": {},
   "source": [
    "### Averaging weights using weight function"
   ]
  },
  {
   "cell_type": "code",
   "execution_count": 31,
   "metadata": {},
   "outputs": [],
   "source": [
    "# Weight function\n",
    "amax = max(a1,a2,a3)\n",
    "if(amax==a1):\n",
    "    c1=9\n",
    "    bmax = max(a2,a3)\n",
    "    if(bmax==a2):\n",
    "        c2=5\n",
    "        c3=1\n",
    "    else:\n",
    "        c2=1\n",
    "        c3=5\n",
    "if(amax==a2):\n",
    "    c2=9\n",
    "    bmax = max(a1,a3)\n",
    "    if(bmax==a1):\n",
    "        c1=5\n",
    "        c3=1\n",
    "    else:\n",
    "        c1=1\n",
    "        c3=5\n",
    "if(amax==a3):\n",
    "    c3=9\n",
    "    bmax = max(a2,a1)\n",
    "    if(bmax==a2):\n",
    "        c2=5\n",
    "        c1=1\n",
    "    else:\n",
    "        c1=1\n",
    "        c2=5\n",
    "W = [(c1*a + c2*b + c3*c)/15  for a, b, c in zip(w1, w2, w3)]"
   ]
  },
  {
   "cell_type": "markdown",
   "metadata": {},
   "source": [
    "### Passing parameters to global model and testing on public dataset"
   ]
  },
  {
   "cell_type": "code",
   "execution_count": 35,
   "metadata": {},
   "outputs": [
    {
     "name": "stdout",
     "output_type": "stream",
     "text": [
      "590/590 [==============================] - 0s 683us/sample - loss: 0.6935 - accuracy: 0.9424\n",
      "0.9423728813559322\n"
     ]
    }
   ],
   "source": [
    "#main model\n",
    "p = public_x\n",
    "py = public_y.values\n",
    "\n",
    "px = StandardScaler().fit_transform(p)\n",
    "\n",
    "public_x_train, public_x_test, public_y_train, public_y_test = train_test_split(px, py, test_size = 0.20, random_state = 0)\n",
    "\n",
    "model = Sequential()\n",
    "model.add(tf.keras.Input(shape=(public_x_train.shape[1],)))\n",
    "model.add(Dense(128, activation='relu'))\n",
    "model.add(Dense(128, activation='relu'))\n",
    "model.add(Dense(128, activation='relu'))\n",
    "model.add(Dropout(0.5))\n",
    "model.add(Dense(6, activation='softmax'))\n",
    "\n",
    "model.compile(optimizer='adam', loss='sparse_categorical_crossentropy', metrics = ['accuracy'])\n",
    "model.set_weights(W)\n",
    "\n",
    "y_pred = model.predict_classes(public_x_test)\n",
    "model.evaluate(public_x_test, public_y_test)\n",
    "\n",
    "print(accuracy_score(public_y_test, y_pred))\n",
    "cf = confusion_matrix(public_y_test, y_pred)"
   ]
  },
  {
   "cell_type": "code",
   "execution_count": 48,
   "metadata": {},
   "outputs": [
    {
     "data": {
      "text/plain": [
       "<matplotlib.axes._subplots.AxesSubplot at 0x207aad473c8>"
      ]
     },
     "execution_count": 48,
     "metadata": {},
     "output_type": "execute_result"
    },
    {
     "data": {
      "image/png": "[encoded data removed]",
      "text/plain": [
       "<Figure size 432x288 with 2 Axes>"
      ]
     },
     "metadata": {
      "needs_background": "light"
     },
     "output_type": "display_data"
    }
   ],
   "source": [
    "sns.heatmap(cf, annot=True)"
   ]
  }
 ],
 "metadata": {
  "kernelspec": {
   "display_name": "Python 3",
   "language": "python",
   "name": "python3"
  },
  "language_info": {
   "codemirror_mode": {
    "name": "ipython",
    "version": 3
   },
   "file_extension": ".py",
   "mimetype": "text/x-python",
   "name": "python",
   "nbconvert_exporter": "python",
   "pygments_lexer": "ipython3",
   "version": "3.7.6"
  }
 },
 "nbformat": 4,
 "nbformat_minor": 4
}
